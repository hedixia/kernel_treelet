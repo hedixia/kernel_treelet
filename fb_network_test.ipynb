{
 "cells": [
  {
   "cell_type": "code",
   "execution_count": 1,
   "metadata": {
    "colab": {
     "base_uri": "https://localhost:8080/",
     "height": 353
    },
    "colab_type": "code",
    "id": "JYa7wXuloRTO",
    "outputId": "51570986-44aa-4c97-e031-04d561b6d0ed"
   },
   "outputs": [],
   "source": [
    "from collections import Counter, deque\n",
    "\n",
    "import numpy as np\n",
    "from matplotlib import pyplot as plt\n",
    "from scipy.sparse import coo_matrix\n",
    "from sklearn.cluster import AgglomerativeClustering, KMeans\n",
    "from kernel_treelets_clustering import kernel_treelets_clustering"
   ]
  },
  {
   "cell_type": "code",
   "execution_count": 3,
   "metadata": {
    "colab": {},
    "colab_type": "code",
    "id": "A3fBjcojoRTU"
   },
   "outputs": [],
   "source": [
    "graph = np.genfromtxt(r\"datasets\\facebook_combined.txt\", dtype=np.uint16)\n",
    "adjmat_int8 = coo_matrix((np.ones(graph.shape[0], dtype=np.uint16), graph.T), shape=(4039, 4039), dtype=np.int8).toarray()\n",
    "adjmat_int8 = adjmat_int8 + adjmat_int8.T\n",
    "adjmat = np.array(adjmat_int8, dtype=float)\n",
    "adjmat[np.diag_indices_from(adjmat)] = 1045"
   ]
  },
  {
   "cell_type": "code",
   "execution_count": 4,
   "metadata": {
    "colab": {
     "base_uri": "https://localhost:8080/",
     "height": 143
    },
    "colab_type": "code",
    "id": "ykOUysb9oRTt",
    "outputId": "bf07a95c-581b-4024-f94c-279b76382079"
   },
   "outputs": [],
   "source": [
    "ac_ward = AgglomerativeClustering(compute_full_tree=True, linkage='ward').fit(adjmat)"
   ]
  },
  {
   "cell_type": "code",
   "execution_count": 5,
   "metadata": {
    "colab": {
     "base_uri": "https://localhost:8080/",
     "height": 143
    },
    "colab_type": "code",
    "id": "U7ZOFKRws0Tl",
    "outputId": "2653d214-ad27-46e9-cea3-a6461cc39faa"
   },
   "outputs": [],
   "source": [
    "ac_complete = AgglomerativeClustering(compute_full_tree=True, linkage='complete').fit(adjmat)"
   ]
  },
  {
   "cell_type": "code",
   "execution_count": null,
   "metadata": {
    "colab": {
     "base_uri": "https://localhost:8080/",
     "height": 143
    },
    "colab_type": "code",
    "id": "U7aMqqhVs8-t",
    "outputId": "5c7072aa-468d-4039-a374-3a6b451b67d4"
   },
   "outputs": [],
   "source": [
    "ac_average = AgglomerativeClustering(compute_full_tree=True, linkage='average').fit(adjmat)"
   ]
  },
  {
   "cell_type": "code",
   "execution_count": null,
   "metadata": {
    "colab": {
     "base_uri": "https://localhost:8080/",
     "height": 143
    },
    "colab_type": "code",
    "id": "5q_pQF7ws9Em",
    "outputId": "071ee503-d667-4213-adde-c46d60050178"
   },
   "outputs": [],
   "source": [
    "ac_single = AgglomerativeClustering(compute_full_tree=True, linkage='single').fit(adjmat)"
   ]
  },
  {
   "cell_type": "code",
   "execution_count": null,
   "metadata": {
    "colab": {},
    "colab_type": "code",
    "id": "ks_1-ctbZfdi"
   },
   "outputs": [],
   "source": [
    "class network_kernel:\n",
    "\tdef __init__ (self, diag):\n",
    "\t\tself.diag = diag\n",
    "\n",
    "\tdef __call__ (self, X):\n",
    "\t\tX = X[:, np.asarray(X).max(axis=0) > 1]\n",
    "\t\tprint(X)\n",
    "\t\tX = X.copy()\n",
    "\t\tX[np.diag_indices_from(X)] = self.diag\n",
    "\t\treturn X\n",
    "  \n",
    "core = 1045\n",
    "ktc = kernel_treelets_clustering(network_kernel(core), number_of_clusters=30, max_sample=4039, verbose=True)\n",
    "ktc.fit(adjmat)"
   ]
  },
  {
   "cell_type": "code",
   "execution_count": null,
   "metadata": {
    "colab": {},
    "colab_type": "code",
    "id": "z1Yl6QrYXm54"
   },
   "outputs": [],
   "source": [
    "def confmat(graph, tree):\n",
    "    E = len(graph)\n",
    "    V = np.max(graph) + 1\n",
    "    db = np.zeros(V, dtype=int)\n",
    "    a4 = np.zeros(V, dtype=int)\n",
    "    adjmat_int = np.asarray(adjmat_int8, dtype=int)\n",
    "    ufg = {x: np.zeros(V, dtype=bool) for x in range(V)}\n",
    "    for x in range(V):\n",
    "        ufg[x][x] = True\n",
    "    for i in range(V - 1):\n",
    "        p = tree[i][0]\n",
    "        q = tree[i][1]\n",
    "        db[i + 1] = 2 * ufg[p].sum() * ufg[q].sum()\n",
    "        a4[i + 1] = 2 * adjmat_int[ufg[p]][:, ufg[q]].sum()\n",
    "        ufg[i + V] = np.logical_or(ufg[p], ufg[q])\n",
    "        ufg.pop(p)\n",
    "        ufg.pop(q)\n",
    "\n",
    "    a4 = np.cumsum(a4)\n",
    "    db = np.cumsum(db)\n",
    "    a2 = db - a4\n",
    "    # a1 = V * V - 2 * E - a2 - V \n",
    "    # a3 = 2 * E - a4\n",
    "    tp = a4 / 2 / E\n",
    "    fp = a2 / (V * V - 2 * E - V)\n",
    "    return (fp, tp)"
   ]
  },
  {
   "cell_type": "code",
   "execution_count": null,
   "metadata": {
    "colab": {
     "base_uri": "https://localhost:8080/",
     "height": 385
    },
    "colab_type": "code",
    "id": "7G5Umx0_9Z-c",
    "outputId": "7dcc5801-ddc7-40e9-e1c2-e1bd73eced5d"
   },
   "outputs": [],
   "source": [
    "L = confmat(graph, ac_single.children_)\n",
    "acs = [kt, ac_ward, ac_complete, ac_average, ac_single]\n",
    "\n",
    "plt.xlabel(\"False Positive Rate\")\n",
    "plt.ylabel(\"True Positive Rate\")\n",
    "plt.title(\"FB Network Data ROC curve (core=1045)\")\n",
    "pairs = [confmat(graph, x.children_) for x in acs]\n",
    "methods = [plt.plot(x[0], x[1]) for x in pairs]\n",
    "names = [\"KT\", \"Ward\", \"Complete\", \"Average\", \"Single\"]\n",
    "auc = [1 - np.trapz(x[0], x[1]) for x in pairs]\n",
    "plt.legend([i[0] for i in methods], [names[i] + \": AUC = {:.3f}\".format(auc[i]) for i in range(len(methods))])\n",
    "\n",
    "plt.show()"
   ]
  },
  {
   "cell_type": "code",
   "execution_count": null,
   "metadata": {},
   "outputs": [],
   "source": []
  }
 ],
 "metadata": {
  "colab": {
   "name": "fb_network_test.ipynb",
   "provenance": [],
   "version": "0.3.2"
  },
  "kernelspec": {
   "display_name": "Python 3",
   "language": "python",
   "name": "python3"
  },
  "language_info": {
   "codemirror_mode": {
    "name": "ipython",
    "version": 3
   },
   "file_extension": ".py",
   "mimetype": "text/x-python",
   "name": "python",
   "nbconvert_exporter": "python",
   "pygments_lexer": "ipython3",
   "version": "3.6.5"
  }
 },
 "nbformat": 4,
 "nbformat_minor": 1
}
